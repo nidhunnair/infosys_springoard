{
 "cells": [
  {
   "cell_type": "code",
   "execution_count": 1,
   "id": "88818476-a933-422d-ab99-b59591bad1ff",
   "metadata": {},
   "outputs": [],
   "source": [
    "import pandas as pd\n",
    "import re\n",
    "import html"
   ]
  },
  {
   "cell_type": "code",
   "execution_count": 2,
   "id": "02d484f2-5ab2-43c7-ba66-92c93dd54116",
   "metadata": {},
   "outputs": [],
   "source": [
    "df = pd.read_csv(\"ai_news.csv\")"
   ]
  },
  {
   "cell_type": "code",
   "execution_count": 3,
   "id": "5ff9b83a-aa48-4bb5-bbd9-cf047a14ac0e",
   "metadata": {},
   "outputs": [],
   "source": [
    "def clean_content(text):\n",
    "    if not isinstance(text, str):  # handle Null\n",
    "        return \"\"\n",
    "    \n",
    "    # Decode HTML entities (&gt;, &amp;, etc.)\n",
    "    text = html.unescape(text)\n",
    "    \n",
    "    # Remove [+XYZ chars]\n",
    "    text = re.sub(r\"\\[\\+\\d+ chars\\]\", \"\", text)\n",
    "    \n",
    "    # Remove {...} blocks (JS snippets)\n",
    "    text = re.sub(r\"{.*?}\", \"\", text)\n",
    "    \n",
    "    # Remove remaining JS-like snippets ending with return false or similar\n",
    "    text = re.sub(r\"\\),\\s*\\d+\\);\\s*return false;?\", \"\", text)\n",
    "    \n",
    "    # Remove HTML tags\n",
    "    text = re.sub(r\"<.*?>\", \"\", text)\n",
    "    \n",
    "    # Remove URLs\n",
    "    text = re.sub(r\"http\\S+\", \"\", text)\n",
    "    \n",
    "    # Normalize spaces\n",
    "    text = re.sub(r\"\\s+\", \" \", text)\n",
    "    \n",
    "    return text.strip()\n"
   ]
  },
  {
   "cell_type": "code",
   "execution_count": null,
   "id": "55134bc2-5e0d-43d5-baad-bf85c026d2db",
   "metadata": {},
   "outputs": [],
   "source": [
    "df[\"content\"] = df[\"content\"].apply(clean_content)\n",
    "df[\"title\"] = df[\"title\"].apply(clean_content)\n",
    "df[\"description\"] = df[\"description\"].apply(clean_content)\n",
    "\n",
    "print(df.head(10))"
   ]
  },
  {
   "cell_type": "code",
   "execution_count": null,
   "id": "a0373fb9-9618-438c-91ed-de300a311ffe",
   "metadata": {},
   "outputs": [],
   "source": [
    "df.to_csv(\"ai_news_clean.csv\", index=False, encoding=\"utf-8\")"
   ]
  },
  {
   "cell_type": "code",
   "execution_count": null,
   "id": "fcccad50-f5c0-4596-a8fe-4e8d329db083",
   "metadata": {},
   "outputs": [],
   "source": []
  },
  {
   "cell_type": "code",
   "execution_count": null,
   "id": "39a17b99-443a-49be-93eb-bc01ed2b9460",
   "metadata": {},
   "outputs": [],
   "source": []
  }
 ],
 "metadata": {
  "kernelspec": {
   "display_name": "Python 3 (ipykernel)",
   "language": "python",
   "name": "python3"
  },
  "language_info": {
   "codemirror_mode": {
    "name": "ipython",
    "version": 3
   },
   "file_extension": ".py",
   "mimetype": "text/x-python",
   "name": "python",
   "nbconvert_exporter": "python",
   "pygments_lexer": "ipython3",
   "version": "3.13.1"
  }
 },
 "nbformat": 4,
 "nbformat_minor": 5
}
