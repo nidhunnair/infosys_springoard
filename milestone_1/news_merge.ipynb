{
 "cells": [
  {
   "cell_type": "code",
   "execution_count": 1,
   "id": "cd4ada40-a51f-4071-b98b-300c85b81b5e",
   "metadata": {},
   "outputs": [],
   "source": [
    "import pandas as pd"
   ]
  },
  {
   "cell_type": "code",
   "execution_count": 2,
   "id": "88514e26-a4e3-4464-990d-932026b5c137",
   "metadata": {},
   "outputs": [],
   "source": [
    "df1 = pd.read_csv(\"ai_news.csv\")\n",
    "df2 = pd.read_csv(\"newsdata_io.csv\")\n",
    "\n",
    "# This one line converts the column and overwrites it with the correct format.\n",
    "df1['publishedAt'] = pd.to_datetime(df1['publishedAt']).dt.tz_convert('Asia/Kolkata').dt.strftime('%Y-%m-%d %H:%M:%S')\n",
    "\n",
    "merged_df = pd.concat([df1, df2], ignore_index=True)\n",
    "\n",
    "merged_df.to_csv(\"ai_news_combined.csv\", index=False, encoding=\"utf-8\")"
   ]
  },
  {
   "cell_type": "code",
   "execution_count": null,
   "id": "1439a560-b797-49bf-83af-e94961bcf2d6",
   "metadata": {},
   "outputs": [],
   "source": []
  }
 ],
 "metadata": {
  "kernelspec": {
   "display_name": "Python 3 (ipykernel)",
   "language": "python",
   "name": "python3"
  },
  "language_info": {
   "codemirror_mode": {
    "name": "ipython",
    "version": 3
   },
   "file_extension": ".py",
   "mimetype": "text/x-python",
   "name": "python",
   "nbconvert_exporter": "python",
   "pygments_lexer": "ipython3",
   "version": "3.13.1"
  }
 },
 "nbformat": 4,
 "nbformat_minor": 5
}
