{
 "cells": [
  {
   "cell_type": "code",
   "execution_count": null,
   "id": "c4c34cef-82b5-4043-9f87-2de0ff9848ef",
   "metadata": {},
   "outputs": [],
   "source": [
    "import requests\n",
    "import pandas as pd\n",
    "import os\n",
    "from dotenv import load_dotenv"
   ]
  },
  {
   "cell_type": "code",
   "execution_count": null,
   "id": "2f0b0a64-4723-4f02-99ab-d2f32df0f960",
   "metadata": {},
   "outputs": [],
   "source": [
    "# Load API key from .env file\n",
    "load_dotenv()\n",
    "API_KEY = os.getenv(\"NEWS_API_KEY\")\n",
    "\n",
    "# Define API endpoint\n",
    "url = \"https://newsapi.org/v2/everything\"\n",
    "\n",
    "# Set query parameters\n",
    "params = {\n",
    "    \"q\": \"AI\",             # topic\n",
    "    \"language\": \"en\",      # only English news\n",
    "    \"sortBy\": \"publishedAt\",  # recent \n",
    "    \"pageSize\": 100,       # max allowed per request\n",
    "    \"apiKey\": API_KEY\n",
    "}\n"
   ]
  },
  {
   "cell_type": "code",
   "execution_count": null,
   "id": "0a8972bb-d8a4-4592-99f2-cf173bef34c5",
   "metadata": {},
   "outputs": [],
   "source": [
    "# Make request\n",
    "response = requests.get(url, params=params)\n",
    "data = response.json()"
   ]
  },
  {
   "cell_type": "code",
   "execution_count": null,
   "id": "18a8f7c0-f9c1-4895-b034-b3e57f5c2a58",
   "metadata": {},
   "outputs": [],
   "source": [
    "# Check if request was successful\n",
    "if response.status_code != 200 or data.get(\"status\") != \"ok\":\n",
    "    print(\"Error:\", data)\n",
    "else:\n",
    "    # Extract articles\n",
    "    articles = data[\"articles\"]\n",
    "\n",
    "    # Convert to DataFrame\n",
    "    df = pd.DataFrame(articles)\n",
    "\n",
    "    # Keep only useful columns\n",
    "    df = df[[\"source\", \"author\", \"title\", \"description\", \"content\", \"url\", \"publishedAt\"]]\n",
    "\n",
    "    # Save to CSV\n",
    "    df.to_csv(\"ai_news.csv\", index=False, encoding=\"utf-8\")\n",
    "\n",
    "    print(f\"Saved {len(df)} AI news articles to ai_news.csv\")\n"
   ]
  },
  {
   "cell_type": "code",
   "execution_count": null,
   "id": "21db1273-8ef1-467e-b2ad-926a9cfadda6",
   "metadata": {},
   "outputs": [],
   "source": []
  }
 ],
 "metadata": {
  "kernelspec": {
   "display_name": "Python 3 (ipykernel)",
   "language": "python",
   "name": "python3"
  },
  "language_info": {
   "codemirror_mode": {
    "name": "ipython",
    "version": 3
   },
   "file_extension": ".py",
   "mimetype": "text/x-python",
   "name": "python",
   "nbconvert_exporter": "python",
   "pygments_lexer": "ipython3",
   "version": "3.13.1"
  }
 },
 "nbformat": 4,
 "nbformat_minor": 5
}
