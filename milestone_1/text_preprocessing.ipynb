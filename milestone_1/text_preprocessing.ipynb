{
 "cells": [
  {
   "cell_type": "code",
   "execution_count": 1,
   "id": "3e188282-b1df-49d1-b34c-f8be597ce4dc",
   "metadata": {},
   "outputs": [],
   "source": [
    "import nltk\n",
    "# nltk.download('stopwords')\n",
    "# nltk.download('wordnet')\n",
    "\n",
    "import pandas as pd\n",
    "import re\n",
    "from nltk.corpus import stopwords\n",
    "from nltk.stem import WordNetLemmatizer"
   ]
  },
  {
   "cell_type": "code",
   "execution_count": 2,
   "id": "05764bed-b2a9-4b58-a18f-fecaa4cb37f6",
   "metadata": {},
   "outputs": [],
   "source": [
    "stop_words = set(stopwords.words('english'))\n",
    "lemmatizer = WordNetLemmatizer()"
   ]
  },
  {
   "cell_type": "code",
   "execution_count": 3,
   "id": "eadead4e-59c9-45a9-b276-ada363959619",
   "metadata": {},
   "outputs": [],
   "source": [
    "def preprocess_text(text):\n",
    "    if not isinstance(text, str):\n",
    "        return \"\"\n",
    "    # Lowercase\n",
    "    text = text.lower()\n",
    "    # Remove URLs\n",
    "    text = re.sub(r\"http\\S+\", \"\", text)\n",
    "    # Remove punctuation and numbers\n",
    "    text = re.sub(r\"[^a-z\\s]\", \"\", text)\n",
    "    # Tokenize and remove stopwords\n",
    "    words = [w for w in text.split() if w not in stop_words]\n",
    "    # Lemmatize\n",
    "    words = [lemmatizer.lemmatize(w) for w in words]\n",
    "    return \" \".join(words)\n"
   ]
  },
  {
   "cell_type": "code",
   "execution_count": null,
   "id": "3517e1fe-808b-49da-9b0d-26655913783e",
   "metadata": {},
   "outputs": [],
   "source": [
    "# Load your cleaned CSV\n",
    "df = pd.read_csv(\"ai_news.csv\")\n",
    "\n",
    "# Combine title + description + content for better NLP text\n",
    "df[\"full_text\"] = df[\"title\"].fillna(\"\") + \" \" + df[\"description\"].fillna(\"\") + \" \" + df[\"content\"].fillna(\"\")\n",
    "\n",
    "# Preprocess\n",
    "df[\"processed_text\"] = df[\"full_text\"].apply(preprocess_text)\n",
    "\n",
    "# Save processed CSV\n",
    "df.to_csv(\"ai_news_processed.csv\", index=False)\n",
    "print(\"Text preprocessing done and saved to ai_news_processed.csv\")"
   ]
  },
  {
   "cell_type": "code",
   "execution_count": null,
   "id": "efa3793d-acc5-433f-99fe-51d8bfb13d43",
   "metadata": {},
   "outputs": [],
   "source": []
  }
 ],
 "metadata": {
  "kernelspec": {
   "display_name": "Python 3 (ipykernel)",
   "language": "python",
   "name": "python3"
  },
  "language_info": {
   "codemirror_mode": {
    "name": "ipython",
    "version": 3
   },
   "file_extension": ".py",
   "mimetype": "text/x-python",
   "name": "python",
   "nbconvert_exporter": "python",
   "pygments_lexer": "ipython3",
   "version": "3.13.1"
  }
 },
 "nbformat": 4,
 "nbformat_minor": 5
}
