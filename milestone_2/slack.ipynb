{
 "cells": [
  {
   "cell_type": "code",
   "execution_count": 1,
   "id": "1d350b49-1879-4220-bcac-bbd00d2ce9a0",
   "metadata": {},
   "outputs": [],
   "source": [
    "import os\n",
    "import pandas as pd\n",
    "import requests\n",
    "import time\n",
    "from dotenv import load_dotenv\n",
    "\n",
    "\n",
    "load_dotenv()\n",
    "SLACK_WEBHOOK_URL = os.getenv(\"SLACK_WEBHOOK_URL\")\n",
    "\n",
    "#  Function to send Slack alerts\n",
    "def send_slack_alert(message: str):\n",
    "    if not SLACK_WEBHOOK_URL:\n",
    "        print(\"⚠️ No Slack webhook URL set.\")\n",
    "        return\n",
    "    try:\n",
    "        response = requests.post(SLACK_WEBHOOK_URL, json={\"text\": message}, timeout=10)\n",
    "        if response.status_code == 200:\n",
    "            print(\"✅ Alert sent successfully.\")\n",
    "        else:\n",
    "            print(f\"❌ Failed to send alert: {response.status_code} {response.text}\")\n",
    "    except Exception as e:\n",
    "        print(f\"❌ Error sending alert: {e}\")"
   ]
  },
  {
   "cell_type": "code",
   "execution_count": 2,
   "id": "e983286d-319f-4cfa-b0bd-8643cc0a76d1",
   "metadata": {},
   "outputs": [
    {
     "name": "stdout",
     "output_type": "stream",
     "text": [
      "✅ Alert sent successfully.\n",
      "✅ Alert sent successfully.\n",
      "✅ Alert sent successfully.\n",
      "✅ Alert sent successfully.\n",
      "✅ Alert sent successfully.\n",
      "✅ Alert sent successfully.\n",
      "✅ Alert sent successfully.\n",
      "✅ Alert sent successfully.\n",
      "✅ Alert sent successfully.\n",
      "✅ Alert sent successfully.\n"
     ]
    }
   ],
   "source": [
    "def main():\n",
    "    # Load the CSV file\n",
    "    df = pd.read_csv(\"ai_news_with_sentiment_scores.csv\", encoding=\"utf-8\")\n",
    "\n",
    "    # Filter only negative news\n",
    "    negatives = df[df[\"sentiment\"].str.lower() == \"negative\"]\n",
    "    negatives = negatives.sort_values(by=\"sentiment_score\") #sorting to get highest values\n",
    "    message_count = 0\n",
    "\n",
    "    if negatives.empty:\n",
    "        print(\"No negative news found.\")\n",
    "        return\n",
    "\n",
    "    # Send one Slack message per negative article\n",
    "    for i, row in negatives.iterrows():\n",
    "        title = row.get(\"title\", \"Untitled\")\n",
    "        url = row.get(\"url\", \"\")\n",
    "        score = row.get(\"sentiment_score\", \"N/A\")\n",
    "        sentiment = row.get(\"sentiment\", \"Unknown\")\n",
    "\n",
    "        message = (\n",
    "            f\"*Negative News Alert!*\\n\"\n",
    "            f\"*Title:* {title}\\n\"\n",
    "            f\"*Sentiment:* {sentiment} ({score})\\n\"\n",
    "            f\"*URL:* {url}\"\n",
    "        )\n",
    "\n",
    "        send_slack_alert(message)\n",
    "        time.sleep(1) \n",
    "\n",
    "        message_count += 1\n",
    "        if message_count == 10: #sending only selected messages\n",
    "            break\n",
    "\n",
    "if __name__ == \"__main__\":\n",
    "    main()"
   ]
  },
  {
   "cell_type": "code",
   "execution_count": null,
   "id": "194ebdae-d47e-45cf-8534-58331c389e0e",
   "metadata": {},
   "outputs": [],
   "source": []
  }
 ],
 "metadata": {
  "kernelspec": {
   "display_name": "Python 3 (ipykernel)",
   "language": "python",
   "name": "python3"
  },
  "language_info": {
   "codemirror_mode": {
    "name": "ipython",
    "version": 3
   },
   "file_extension": ".py",
   "mimetype": "text/x-python",
   "name": "python",
   "nbconvert_exporter": "python",
   "pygments_lexer": "ipython3",
   "version": "3.13.1"
  }
 },
 "nbformat": 4,
 "nbformat_minor": 5
}
